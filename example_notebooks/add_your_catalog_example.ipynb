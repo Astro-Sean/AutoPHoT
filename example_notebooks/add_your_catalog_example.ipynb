{
 "cells": [
  {
   "cell_type": "markdown",
   "metadata": {},
   "source": [
    "In this example we will setup the AutoPhOT pipeline to accept a custom/ user created catalog of sequence stars\n",
    "\n",
    "The first few cells are setting up the pipeline as shown [here](https://github.com/Astro-Sean/autophot/blob/master/example_notebooks/autophot_example.ipynb)"
   ]
  },
  {
   "cell_type": "code",
   "execution_count": 17,
   "metadata": {},
   "outputs": [],
   "source": [
    "import autophot\n",
    "from autophot.autophot import run\n",
    "from autophot.prep_input import load\n",
    "from autophot.example import save_example_data\n",
    "from autophot.packages.functions import getimage\n",
    "from autophot.packages.functions import getheader\n",
    "\n",
    "import os\n",
    "import pandas as pd\n",
    "import matplotlib.pyplot as plt\n",
    "import matplotlib.pyplot as plt\n",
    "\n",
    "from astropy import wcs\n",
    "from astropy.coordinates import SkyCoord \n",
    "from astropy.visualization import ImageNormalize,SquaredStretch,ZScaleInterval\n"
   ]
  },
  {
   "cell_type": "code",
   "execution_count": 42,
   "metadata": {},
   "outputs": [
    {
     "name": "stdout",
     "output_type": "stream",
     "text": [
      "Default input loaded in from: \n",
      "/Users/seanbrennan/anaconda2/envs/conda3/lib/python3.8/site-packages/autophot/databases/default_input.yml\n",
      "Successful copy of example.fits written to:\n",
      "/Users/seanbrennan/Desktop/autophot_example/example.fits\n",
      "Setting work directory (wdir) to: /Users/seanbrennan/Desktop/autophot_example\n"
     ]
    },
    {
     "data": {
      "text/plain": [
       "'\\nCode will also work if we set fits_dir to the directory to our fits data \\n\\n'"
      ]
     },
     "execution_count": 42,
     "metadata": {},
     "output_type": "execute_result"
    }
   ],
   "source": [
    "# Load default input yaml file\n",
    "syntax = load()\n",
    "\n",
    "# Built in function to move some example data onto the users desktop\n",
    "fpath = save_example_data.save_fits_to_desktop()\n",
    "\n",
    "# define what we want to work on\n",
    "syntax['fits_dir'] = None\n",
    "syntax['fname'] = fpath\n",
    "\n",
    "# get directory path\n",
    "dirpath = os.path.dirname(fpath)\n",
    "\n",
    "print('Setting work directory (wdir) to: %s' % dirpath)\n",
    "\n",
    "# set working directory\n",
    "syntax['wdir'] = dirpath\n",
    "\n",
    "syntax['fits_dir'] = dirpath\n",
    "'''\n",
    "Code will also work if we set fits_dir to the directory to our fits data \n",
    "\n",
    "'''"
   ]
  },
  {
   "cell_type": "markdown",
   "metadata": {},
   "source": [
    "Some photometry require the use of a non-standard sky survey, for example if can be trickly to get JC U-band sequence stars from an all-sky survey. \n",
    "\n",
    "AutoPhOT is prepared to handle unique custom catalogs \n",
    "\n"
   ]
  },
  {
   "cell_type": "code",
   "execution_count": 43,
   "metadata": {},
   "outputs": [],
   "source": [
    "# set the catalog key to 'custom' and enter in the filepath of your custom catalog\n",
    "syntax['catalog'] = 'custom'\n",
    "\n",
    "# this is an example sequence stars catlog .... enter the lfile path of your csv file with sequence stars\n",
    "# The below file is not available through AutoPhOT\n",
    "syntax['catalog_custom_fpath'] = '/Users/seanbrennan/Desktop/autophot_example/catalog_queries/custom/my_first_catalog.csv'"
   ]
  },
  {
   "cell_type": "markdown",
   "metadata": {},
   "source": [
    "Although the require fields are RA and DEC (case sensitive), there are no restrictions of what filters to include.\n",
    "\n",
    "RA and DEC given in degrees in ICRS frame\n",
    "\n",
    "Filter name convention follows that used throughout AutoPhOT\n",
    "\n",
    "Johnson - Cousin: U, B, V, R, I\n",
    "\n",
    "Sloan : u, g, r, i, z\n",
    "\n",
    "Near-Infrared : J, H, K\n",
    "\n",
    "Any entryed filters require a corrosponding err e.g [r] and [r_err], although these errors can be set to NaN.\n",
    "\n",
    "If you need a another filter naming convention built into AutoPhOt, please email me to set it up"
   ]
  },
  {
   "cell_type": "code",
   "execution_count": 48,
   "metadata": {},
   "outputs": [
    {
     "data": {
      "text/html": [
       "<div>\n",
       "<style scoped>\n",
       "    .dataframe tbody tr th:only-of-type {\n",
       "        vertical-align: middle;\n",
       "    }\n",
       "\n",
       "    .dataframe tbody tr th {\n",
       "        vertical-align: top;\n",
       "    }\n",
       "\n",
       "    .dataframe thead th {\n",
       "        text-align: right;\n",
       "    }\n",
       "</style>\n",
       "<table border=\"1\" class=\"dataframe\">\n",
       "  <thead>\n",
       "    <tr style=\"text-align: right;\">\n",
       "      <th></th>\n",
       "      <th>RA</th>\n",
       "      <th>DEC</th>\n",
       "      <th>U</th>\n",
       "      <th>B</th>\n",
       "      <th>V</th>\n",
       "      <th>g</th>\n",
       "      <th>r</th>\n",
       "      <th>i</th>\n",
       "      <th>U_err</th>\n",
       "      <th>B_err</th>\n",
       "      <th>V_err</th>\n",
       "      <th>g_err</th>\n",
       "      <th>r_err</th>\n",
       "      <th>i_err</th>\n",
       "      <th>R</th>\n",
       "      <th>R_err</th>\n",
       "      <th>I</th>\n",
       "      <th>I_err</th>\n",
       "    </tr>\n",
       "  </thead>\n",
       "  <tbody>\n",
       "    <tr>\n",
       "      <th>0</th>\n",
       "      <td>113.769167</td>\n",
       "      <td>-69.468861</td>\n",
       "      <td>17.348</td>\n",
       "      <td>17.086</td>\n",
       "      <td>16.245</td>\n",
       "      <td>16.624</td>\n",
       "      <td>15.974</td>\n",
       "      <td>15.648</td>\n",
       "      <td>0.036</td>\n",
       "      <td>0.021</td>\n",
       "      <td>0.015</td>\n",
       "      <td>0.015</td>\n",
       "      <td>0.020</td>\n",
       "      <td>0.016</td>\n",
       "      <td>NaN</td>\n",
       "      <td>NaN</td>\n",
       "      <td>NaN</td>\n",
       "      <td>NaN</td>\n",
       "    </tr>\n",
       "    <tr>\n",
       "      <th>1</th>\n",
       "      <td>113.773333</td>\n",
       "      <td>-69.545083</td>\n",
       "      <td>NaN</td>\n",
       "      <td>17.431</td>\n",
       "      <td>16.119</td>\n",
       "      <td>16.753</td>\n",
       "      <td>15.627</td>\n",
       "      <td>15.114</td>\n",
       "      <td>NaN</td>\n",
       "      <td>0.019</td>\n",
       "      <td>0.015</td>\n",
       "      <td>0.015</td>\n",
       "      <td>0.034</td>\n",
       "      <td>0.016</td>\n",
       "      <td>NaN</td>\n",
       "      <td>NaN</td>\n",
       "      <td>NaN</td>\n",
       "      <td>NaN</td>\n",
       "    </tr>\n",
       "    <tr>\n",
       "      <th>2</th>\n",
       "      <td>113.804167</td>\n",
       "      <td>-69.499333</td>\n",
       "      <td>14.986</td>\n",
       "      <td>14.724</td>\n",
       "      <td>13.894</td>\n",
       "      <td>14.267</td>\n",
       "      <td>13.648</td>\n",
       "      <td>13.374</td>\n",
       "      <td>0.015</td>\n",
       "      <td>0.015</td>\n",
       "      <td>0.015</td>\n",
       "      <td>0.015</td>\n",
       "      <td>0.022</td>\n",
       "      <td>0.015</td>\n",
       "      <td>NaN</td>\n",
       "      <td>NaN</td>\n",
       "      <td>NaN</td>\n",
       "      <td>NaN</td>\n",
       "    </tr>\n",
       "    <tr>\n",
       "      <th>3</th>\n",
       "      <td>113.807083</td>\n",
       "      <td>-69.451472</td>\n",
       "      <td>16.902</td>\n",
       "      <td>16.672</td>\n",
       "      <td>15.851</td>\n",
       "      <td>16.215</td>\n",
       "      <td>15.615</td>\n",
       "      <td>15.303</td>\n",
       "      <td>0.026</td>\n",
       "      <td>0.019</td>\n",
       "      <td>0.015</td>\n",
       "      <td>0.015</td>\n",
       "      <td>0.028</td>\n",
       "      <td>0.020</td>\n",
       "      <td>NaN</td>\n",
       "      <td>NaN</td>\n",
       "      <td>NaN</td>\n",
       "      <td>NaN</td>\n",
       "    </tr>\n",
       "    <tr>\n",
       "      <th>4</th>\n",
       "      <td>113.813750</td>\n",
       "      <td>-69.453194</td>\n",
       "      <td>17.793</td>\n",
       "      <td>17.455</td>\n",
       "      <td>16.631</td>\n",
       "      <td>17.006</td>\n",
       "      <td>16.366</td>\n",
       "      <td>16.078</td>\n",
       "      <td>0.051</td>\n",
       "      <td>0.015</td>\n",
       "      <td>0.015</td>\n",
       "      <td>0.015</td>\n",
       "      <td>0.027</td>\n",
       "      <td>0.024</td>\n",
       "      <td>NaN</td>\n",
       "      <td>NaN</td>\n",
       "      <td>NaN</td>\n",
       "      <td>NaN</td>\n",
       "    </tr>\n",
       "    <tr>\n",
       "      <th>5</th>\n",
       "      <td>113.846250</td>\n",
       "      <td>-69.587750</td>\n",
       "      <td>NaN</td>\n",
       "      <td>17.067</td>\n",
       "      <td>15.755</td>\n",
       "      <td>16.393</td>\n",
       "      <td>15.242</td>\n",
       "      <td>14.747</td>\n",
       "      <td>NaN</td>\n",
       "      <td>0.015</td>\n",
       "      <td>0.015</td>\n",
       "      <td>0.015</td>\n",
       "      <td>0.024</td>\n",
       "      <td>0.015</td>\n",
       "      <td>NaN</td>\n",
       "      <td>NaN</td>\n",
       "      <td>NaN</td>\n",
       "      <td>NaN</td>\n",
       "    </tr>\n",
       "    <tr>\n",
       "      <th>6</th>\n",
       "      <td>113.866250</td>\n",
       "      <td>-69.518944</td>\n",
       "      <td>16.829</td>\n",
       "      <td>16.515</td>\n",
       "      <td>15.674</td>\n",
       "      <td>16.053</td>\n",
       "      <td>15.454</td>\n",
       "      <td>15.175</td>\n",
       "      <td>0.021</td>\n",
       "      <td>0.015</td>\n",
       "      <td>0.015</td>\n",
       "      <td>0.015</td>\n",
       "      <td>0.031</td>\n",
       "      <td>0.015</td>\n",
       "      <td>NaN</td>\n",
       "      <td>NaN</td>\n",
       "      <td>NaN</td>\n",
       "      <td>NaN</td>\n",
       "    </tr>\n",
       "    <tr>\n",
       "      <th>7</th>\n",
       "      <td>113.886250</td>\n",
       "      <td>-69.572333</td>\n",
       "      <td>15.082</td>\n",
       "      <td>14.980</td>\n",
       "      <td>14.279</td>\n",
       "      <td>14.597</td>\n",
       "      <td>14.102</td>\n",
       "      <td>13.857</td>\n",
       "      <td>0.015</td>\n",
       "      <td>0.015</td>\n",
       "      <td>0.015</td>\n",
       "      <td>0.015</td>\n",
       "      <td>0.020</td>\n",
       "      <td>0.015</td>\n",
       "      <td>NaN</td>\n",
       "      <td>NaN</td>\n",
       "      <td>NaN</td>\n",
       "      <td>NaN</td>\n",
       "    </tr>\n",
       "    <tr>\n",
       "      <th>8</th>\n",
       "      <td>113.899583</td>\n",
       "      <td>-69.496500</td>\n",
       "      <td>17.640</td>\n",
       "      <td>16.823</td>\n",
       "      <td>15.639</td>\n",
       "      <td>16.174</td>\n",
       "      <td>15.270</td>\n",
       "      <td>14.850</td>\n",
       "      <td>0.029</td>\n",
       "      <td>0.015</td>\n",
       "      <td>0.015</td>\n",
       "      <td>0.015</td>\n",
       "      <td>0.023</td>\n",
       "      <td>0.017</td>\n",
       "      <td>NaN</td>\n",
       "      <td>NaN</td>\n",
       "      <td>NaN</td>\n",
       "      <td>NaN</td>\n",
       "    </tr>\n",
       "    <tr>\n",
       "      <th>9</th>\n",
       "      <td>113.907083</td>\n",
       "      <td>-69.464639</td>\n",
       "      <td>16.210</td>\n",
       "      <td>15.976</td>\n",
       "      <td>15.180</td>\n",
       "      <td>15.538</td>\n",
       "      <td>14.970</td>\n",
       "      <td>14.701</td>\n",
       "      <td>0.015</td>\n",
       "      <td>0.015</td>\n",
       "      <td>0.015</td>\n",
       "      <td>0.015</td>\n",
       "      <td>0.021</td>\n",
       "      <td>0.015</td>\n",
       "      <td>NaN</td>\n",
       "      <td>NaN</td>\n",
       "      <td>NaN</td>\n",
       "      <td>NaN</td>\n",
       "    </tr>\n",
       "  </tbody>\n",
       "</table>\n",
       "</div>"
      ],
      "text/plain": [
       "           RA        DEC       U       B       V       g       r       i  \\\n",
       "0  113.769167 -69.468861  17.348  17.086  16.245  16.624  15.974  15.648   \n",
       "1  113.773333 -69.545083     NaN  17.431  16.119  16.753  15.627  15.114   \n",
       "2  113.804167 -69.499333  14.986  14.724  13.894  14.267  13.648  13.374   \n",
       "3  113.807083 -69.451472  16.902  16.672  15.851  16.215  15.615  15.303   \n",
       "4  113.813750 -69.453194  17.793  17.455  16.631  17.006  16.366  16.078   \n",
       "5  113.846250 -69.587750     NaN  17.067  15.755  16.393  15.242  14.747   \n",
       "6  113.866250 -69.518944  16.829  16.515  15.674  16.053  15.454  15.175   \n",
       "7  113.886250 -69.572333  15.082  14.980  14.279  14.597  14.102  13.857   \n",
       "8  113.899583 -69.496500  17.640  16.823  15.639  16.174  15.270  14.850   \n",
       "9  113.907083 -69.464639  16.210  15.976  15.180  15.538  14.970  14.701   \n",
       "\n",
       "   U_err  B_err  V_err  g_err  r_err  i_err   R  R_err   I  I_err  \n",
       "0  0.036  0.021  0.015  0.015  0.020  0.016 NaN    NaN NaN    NaN  \n",
       "1    NaN  0.019  0.015  0.015  0.034  0.016 NaN    NaN NaN    NaN  \n",
       "2  0.015  0.015  0.015  0.015  0.022  0.015 NaN    NaN NaN    NaN  \n",
       "3  0.026  0.019  0.015  0.015  0.028  0.020 NaN    NaN NaN    NaN  \n",
       "4  0.051  0.015  0.015  0.015  0.027  0.024 NaN    NaN NaN    NaN  \n",
       "5    NaN  0.015  0.015  0.015  0.024  0.015 NaN    NaN NaN    NaN  \n",
       "6  0.021  0.015  0.015  0.015  0.031  0.015 NaN    NaN NaN    NaN  \n",
       "7  0.015  0.015  0.015  0.015  0.020  0.015 NaN    NaN NaN    NaN  \n",
       "8  0.029  0.015  0.015  0.015  0.023  0.017 NaN    NaN NaN    NaN  \n",
       "9  0.015  0.015  0.015  0.015  0.021  0.015 NaN    NaN NaN    NaN  "
      ]
     },
     "execution_count": 48,
     "metadata": {},
     "output_type": "execute_result"
    }
   ],
   "source": [
    "# Print it out to show structure\n",
    "my_first_catalog = pd.read_csv(syntax['catalog_custom_fpath'])\n",
    "my_first_catalog.head(10)"
   ]
  },
  {
   "cell_type": "markdown",
   "metadata": {},
   "source": [
    "To check if the the catalog we've entered is okay, we can plot out the location of the sequence stars"
   ]
  },
  {
   "cell_type": "code",
   "execution_count": 45,
   "metadata": {},
   "outputs": [
    {
     "name": "stderr",
     "output_type": "stream",
     "text": [
      "WARNING: FITSFixedWarning: 'datfix' made the change 'Set DATE-OBS to '2020-01-01' from MJD-OBS'. [astropy.wcs.wcs]\n",
      "FITSFixedWarning: 'datfix' made the change 'Set DATE-OBS to '2020-01-01' from MJD-OBS'.\n",
      "<ipython-input-45-269d49799d2c>:65: UserWarning: Matplotlib is currently using agg, which is a non-GUI backend, so cannot show the figure.\n",
      "  plt.show()\n"
     ]
    },
    {
     "name": "stdout",
     "output_type": "stream",
     "text": [
      "Performing photometry on source at ra/dec = 114.070433/-69.529716\n"
     ]
    },
    {
     "data": {
      "image/png": "[encoded data removed]",
      "text/plain": [
       "<Figure size 600x400 with 1 Axes>"
      ]
     },
     "metadata": {
      "needs_background": "light"
     },
     "output_type": "display_data"
    }
   ],
   "source": [
    "# get the image\n",
    "data = getimage(fpath)\n",
    "\n",
    "# header\n",
    "header = getheader(fpath)\n",
    "\n",
    "# Create an ImageNormalize object\n",
    "norm = ImageNormalize(stretch = SquaredStretch())\n",
    "vmin,vmax = (ZScaleInterval(nsamples = 1000)).get_limits(data)\n",
    "\n",
    "plt.imshow(data,\n",
    "          vmin = vmin,\n",
    "          vmax = vmax,\n",
    "          norm = norm,\n",
    "          origin = 'lower',\n",
    "          cmap = 'Greys')\n",
    "\n",
    "'''\n",
    "For purpose of this example WCS is already in header. \n",
    "AutoPhOT is able to call astrometry.net from a local instance although for this example we assume the user doesn't\n",
    "have astrometry installed\n",
    "''' \n",
    "w = wcs.WCS(header)\n",
    "\n",
    "# Select a source - this source is not a transient although it is close to the center of the galaxy (NGC 2442)\n",
    "ra = 114.070433\n",
    "dec = -69.529716\n",
    "\n",
    "# Mark location of target\n",
    "c = SkyCoord(ra,dec , unit=\"deg\") \n",
    "x_pix,y_pix = w.all_world2pix(c.ra.degree, c.dec.degree, 1)\n",
    "plt.scatter(x_pix,y_pix,marker = 'o',\n",
    "            facecolor = 'none',\n",
    "            edgecolor = 'r',\n",
    "            s = 20,\n",
    "            label = 'Some Target'\n",
    "           )\n",
    "\n",
    "# Plot our sequence stars\n",
    "ra_stars = my_first_catalog['RA']\n",
    "dec_stars = my_first_catalog['DEC']\n",
    "\n",
    "x_pix_stars,y_pix_stars = w.all_world2pix(ra_stars, dec_stars, 0)\n",
    "\n",
    "plt.scatter(x_pix_stars,y_pix_stars,\n",
    "            marker = 's',\n",
    "            facecolor = 'none',\n",
    "            edgecolor = 'g',\n",
    "            s = 20,\n",
    "            label = 'Sequence stars'\n",
    "           )\n",
    "\n",
    "# zoom in to better show sequence stars\n",
    "plt.xlim(1000,3000)\n",
    "plt.ylim(500,2500)\n",
    "\n",
    "plt.legend(loc= 'best')\n",
    "\n",
    "plt.show()\n",
    "\n",
    "\n",
    "\n",
    "# Set up target source\n",
    "print('Performing photometry on source at ra/dec = %.6f/%.6f' %  (c.ra.degree,c.dec.degree))\n",
    "\n",
    "# In this case this source isn't in TNS so we leave target_name as None and update target_ra and target_dec\n",
    "syntax['target_ra'] = c.ra.degree\n",
    "syntax['target_dec'] = c.dec.degree"
   ]
  },
  {
   "cell_type": "markdown",
   "metadata": {},
   "source": [
    "Now that we've updated the **catalog** and **catalog_custom_fpath** keys we can run AutoPhOT with using the custom catalog"
   ]
  },
  {
   "cell_type": "code",
   "execution_count": 46,
   "metadata": {},
   "outputs": [
    {
     "name": "stderr",
     "output_type": "stream",
     "text": [
      "User instrument database: /Users/seanbrennan/Desktop/autophot_example/telescope.yml\n",
      "\n",
      "Number of files: 1\n",
      "1 telescope(s) detected - checking header keywords\n",
      "Checking: EXAMPLE_TELESCOPE for unique keywords\n",
      "File: example_APT.fits - PID: 80764\n",
      "Start Time: 2020-06-18 12:21:57.310454\n",
      "Telescope: EXAMPLE_TELESCOPE\n",
      "Filter: r\n",
      "Gain: 1\n",
      "Exposure time: 60s \n",
      "Detecting/removing cosmic ray sources\n"
     ]
    },
    {
     "name": "stdout",
     "output_type": "stream",
     "text": [
      "Directory of input fits file: /Users/seanbrennan/Desktop/autophot_example\n",
      "\n",
      "> Checking: Filters\n",
      "\n",
      "Files removed - Wrong Image: 0\n",
      "\n",
      "\n",
      "Files removed - No filter: 0\n",
      "\n",
      "\n",
      "Files removed - Total: 0\n",
      "\n",
      "\n",
      "+-------------+\n",
      "| File: 1 / 1 |\n",
      "+-------------+\n",
      "Starting Astroscrappy ... working ... this may take some time ... done\n"
     ]
    },
    {
     "name": "stderr",
     "output_type": "stream",
     "text": [
      "Cosmic rays removed - image updated\n",
      "WCS\n",
      "WCS Values found\n",
      "Number of sources before cleaning - [s = 100.0]: 524 \n",
      "Too many sources\n"
     ]
    },
    {
     "name": "stdout",
     "output_type": "stream",
     "text": [
      "m: 0 :: n 0\n"
     ]
    },
    {
     "name": "stderr",
     "output_type": "stream",
     "text": [
      "Number of sources before cleaning - [s = 200.0]: 337 \n",
      "wrong close-up size\n",
      "wrong close-up size\n",
      "wrong close-up size\n",
      "wrong close-up size\n",
      "wrong close-up size\n",
      "wrong close-up size\n",
      "wrong close-up size\n",
      "wrong close-up size\n",
      "Isolated sources found [ 200.0 sigma ]: 176\n",
      "FWHM (from all sources[176]): 4.656 \n",
      "Aperture correction: -0.116 +/- 0.001\n",
      "Searching for viable sources\n",
      "New target name: target_ra_114.0_dec_-70.0\n",
      "Searching for new catalog: custom \n",
      "Catalog length: 53\n"
     ]
    },
    {
     "name": "stdout",
     "output_type": "stream",
     "text": [
      "Matching catalog source to image: 36 / 44"
     ]
    },
    {
     "name": "stderr",
     "output_type": "stream",
     "text": [
      "Number of sources from catalog: 44\n",
      "Average pixel offset: 1.686 \n",
      "Photometry\n",
      "Using PSF Photometry\n",
      "Limiting threshold: 5 sigma\n"
     ]
    },
    {
     "name": "stdout",
     "output_type": "stream",
     "text": [
      "Residual table updated: 9 / 10 e: 43 / 44"
     ]
    },
    {
     "name": "stderr",
     "output_type": "stream",
     "text": [
      "Image_radius [pix] : 8.195 +/- 0.239\n",
      "FWHM of PSF model: 4.280\n",
      "Approx PSF mag -7.302\n",
      "Image cutout size: (14,14) (14,14)\n",
      "Fitting PSF to 44 sources\n"
     ]
    },
    {
     "name": "stdout",
     "output_type": "stream",
     "text": [
      "\r",
      "Residual table updated: 10 / 10 \n"
     ]
    },
    {
     "name": "stderr",
     "output_type": "stream",
     "text": [
      "Zeropoint\n",
      "zp_r: 22.805 +/- 0.014 < \n"
     ]
    },
    {
     "name": "stdout",
     "output_type": "stream",
     "text": [
      "\n"
     ]
    },
    {
     "name": "stderr",
     "output_type": "stream",
     "text": [
      "Limiting Magnitude\n",
      "SNR limit cutoff: 5 - Mag error limit: 0.198\n",
      "Approx. limiting magnitude: 16.326 \n",
      "Target photometry on original image\n",
      "Target Photometry\n",
      "Fitting PSF to Target\n",
      "Fitting PSF to 1 sources\n",
      "Fitting gaussian to source to get FWHM\n",
      "Target FWHM: 4.274\n"
     ]
    },
    {
     "name": "stdout",
     "output_type": "stream",
     "text": [
      "\r",
      "Fitting PSF to source: 1 / 1"
     ]
    },
    {
     "name": "stderr",
     "output_type": "stream",
     "text": [
      "Image 1 / 1 saved\n",
      "SNR = 68 - checking limiting magnitude\n",
      "Limiting threshold: 5 sigma\n",
      "Number of pixels in star: 357\n"
     ]
    },
    {
     "name": "stdout",
     "output_type": "stream",
     "text": [
      "\n"
     ]
    },
    {
     "name": "stderr",
     "output_type": "stream",
     "text": [
      "Mean: -1565.858 - std: 352.693\n",
      "Detection at 5 std: 197.608\n",
      "Target counts: 135.127 +/- 1.991\n",
      "Target SNR: 67.884 +/- 0.016\n",
      "Instrumental Magnitude: -5.327 +/- 0.016\n",
      "Zeropoint: 22.805 +/- 0.014\n",
      "Limiting Magnitude: 21.511\n",
      "Target Magnitude: 17.479 +/- 0.035 \n",
      "Time Taken [ 80764 ]: 123s\n",
      "Sucess: example_APT - PID: 80764\n"
     ]
    },
    {
     "name": "stdout",
     "output_type": "stream",
     "text": [
      "\n",
      "---\n",
      "\n",
      "Total failure : []\n",
      "\n",
      "DONE\n",
      "Recovering Output...\n",
      "> Data Recovered <\n",
      "\n",
      "Total Time Taken: 124s\n"
     ]
    }
   ],
   "source": [
    "# Run AutoPhoT as normal\n",
    "run(syntax)"
   ]
  },
  {
   "cell_type": "code",
   "execution_count": null,
   "metadata": {},
   "outputs": [],
   "source": []
  },
  {
   "cell_type": "code",
   "execution_count": null,
   "metadata": {},
   "outputs": [],
   "source": []
  },
  {
   "cell_type": "code",
   "execution_count": null,
   "metadata": {},
   "outputs": [],
   "source": []
  },
  {
   "cell_type": "code",
   "execution_count": null,
   "metadata": {},
   "outputs": [],
   "source": []
  }
 ],
 "metadata": {
  "kernelspec": {
   "display_name": "Python 3",
   "language": "python",
   "name": "python3"
  },
  "language_info": {
   "codemirror_mode": {
    "name": "ipython",
    "version": 3
   },
   "file_extension": ".py",
   "mimetype": "text/x-python",
   "name": "python",
   "nbconvert_exporter": "python",
   "pygments_lexer": "ipython3",
   "version": "3.8.3"
  }
 },
 "nbformat": 4,
 "nbformat_minor": 4
}
